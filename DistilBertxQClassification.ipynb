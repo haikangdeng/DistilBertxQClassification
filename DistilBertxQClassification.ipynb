{
  "nbformat": 4,
  "nbformat_minor": 0,
  "metadata": {
    "colab": {
      "name": "DistilBertxQClassification.ipynb",
      "provenance": [],
      "collapsed_sections": []
    },
    "kernelspec": {
      "name": "python3",
      "display_name": "Python 3"
    },
    "language_info": {
      "name": "python"
    },
    "accelerator": "GPU",
    "widgets": {
      "application/vnd.jupyter.widget-state+json": {
        "f83e3ccdcd9b4e259f435220bb6659ef": {
          "model_module": "@jupyter-widgets/controls",
          "model_name": "HBoxModel",
          "state": {
            "_view_name": "HBoxView",
            "_dom_classes": [],
            "_model_name": "HBoxModel",
            "_view_module": "@jupyter-widgets/controls",
            "_model_module_version": "1.5.0",
            "_view_count": null,
            "_view_module_version": "1.5.0",
            "box_style": "",
            "layout": "IPY_MODEL_bfe30eb9d09d45bbbb8f6d258ae475dc",
            "_model_module": "@jupyter-widgets/controls",
            "children": [
              "IPY_MODEL_479208fbc4a74d55bb6432cf7f65bf59",
              "IPY_MODEL_beac1d0c4e4e4a04ba122c066ac8fc23"
            ]
          }
        },
        "bfe30eb9d09d45bbbb8f6d258ae475dc": {
          "model_module": "@jupyter-widgets/base",
          "model_name": "LayoutModel",
          "state": {
            "_view_name": "LayoutView",
            "grid_template_rows": null,
            "right": null,
            "justify_content": null,
            "_view_module": "@jupyter-widgets/base",
            "overflow": null,
            "_model_module_version": "1.2.0",
            "_view_count": null,
            "flex_flow": null,
            "width": null,
            "min_width": null,
            "border": null,
            "align_items": null,
            "bottom": null,
            "_model_module": "@jupyter-widgets/base",
            "top": null,
            "grid_column": null,
            "overflow_y": null,
            "overflow_x": null,
            "grid_auto_flow": null,
            "grid_area": null,
            "grid_template_columns": null,
            "flex": null,
            "_model_name": "LayoutModel",
            "justify_items": null,
            "grid_row": null,
            "max_height": null,
            "align_content": null,
            "visibility": null,
            "align_self": null,
            "height": null,
            "min_height": null,
            "padding": null,
            "grid_auto_rows": null,
            "grid_gap": null,
            "max_width": null,
            "order": null,
            "_view_module_version": "1.2.0",
            "grid_template_areas": null,
            "object_position": null,
            "object_fit": null,
            "grid_auto_columns": null,
            "margin": null,
            "display": null,
            "left": null
          }
        },
        "479208fbc4a74d55bb6432cf7f65bf59": {
          "model_module": "@jupyter-widgets/controls",
          "model_name": "FloatProgressModel",
          "state": {
            "_view_name": "ProgressView",
            "style": "IPY_MODEL_dd45d0019d9248488e73767608d8f655",
            "_dom_classes": [],
            "description": "Downloading: 100%",
            "_model_name": "FloatProgressModel",
            "bar_style": "success",
            "max": 231508,
            "_view_module": "@jupyter-widgets/controls",
            "_model_module_version": "1.5.0",
            "value": 231508,
            "_view_count": null,
            "_view_module_version": "1.5.0",
            "orientation": "horizontal",
            "min": 0,
            "description_tooltip": null,
            "_model_module": "@jupyter-widgets/controls",
            "layout": "IPY_MODEL_4052f9050c3f4ea18167f49f982591a3"
          }
        },
        "beac1d0c4e4e4a04ba122c066ac8fc23": {
          "model_module": "@jupyter-widgets/controls",
          "model_name": "HTMLModel",
          "state": {
            "_view_name": "HTMLView",
            "style": "IPY_MODEL_d91ebd320b4140c087cbe744e63d612c",
            "_dom_classes": [],
            "description": "",
            "_model_name": "HTMLModel",
            "placeholder": "​",
            "_view_module": "@jupyter-widgets/controls",
            "_model_module_version": "1.5.0",
            "value": " 232k/232k [00:02&lt;00:00, 115kB/s]",
            "_view_count": null,
            "_view_module_version": "1.5.0",
            "description_tooltip": null,
            "_model_module": "@jupyter-widgets/controls",
            "layout": "IPY_MODEL_dd44989da1b54423808a25f895aed5bd"
          }
        },
        "dd45d0019d9248488e73767608d8f655": {
          "model_module": "@jupyter-widgets/controls",
          "model_name": "ProgressStyleModel",
          "state": {
            "_view_name": "StyleView",
            "_model_name": "ProgressStyleModel",
            "description_width": "initial",
            "_view_module": "@jupyter-widgets/base",
            "_model_module_version": "1.5.0",
            "_view_count": null,
            "_view_module_version": "1.2.0",
            "bar_color": null,
            "_model_module": "@jupyter-widgets/controls"
          }
        },
        "4052f9050c3f4ea18167f49f982591a3": {
          "model_module": "@jupyter-widgets/base",
          "model_name": "LayoutModel",
          "state": {
            "_view_name": "LayoutView",
            "grid_template_rows": null,
            "right": null,
            "justify_content": null,
            "_view_module": "@jupyter-widgets/base",
            "overflow": null,
            "_model_module_version": "1.2.0",
            "_view_count": null,
            "flex_flow": null,
            "width": null,
            "min_width": null,
            "border": null,
            "align_items": null,
            "bottom": null,
            "_model_module": "@jupyter-widgets/base",
            "top": null,
            "grid_column": null,
            "overflow_y": null,
            "overflow_x": null,
            "grid_auto_flow": null,
            "grid_area": null,
            "grid_template_columns": null,
            "flex": null,
            "_model_name": "LayoutModel",
            "justify_items": null,
            "grid_row": null,
            "max_height": null,
            "align_content": null,
            "visibility": null,
            "align_self": null,
            "height": null,
            "min_height": null,
            "padding": null,
            "grid_auto_rows": null,
            "grid_gap": null,
            "max_width": null,
            "order": null,
            "_view_module_version": "1.2.0",
            "grid_template_areas": null,
            "object_position": null,
            "object_fit": null,
            "grid_auto_columns": null,
            "margin": null,
            "display": null,
            "left": null
          }
        },
        "d91ebd320b4140c087cbe744e63d612c": {
          "model_module": "@jupyter-widgets/controls",
          "model_name": "DescriptionStyleModel",
          "state": {
            "_view_name": "StyleView",
            "_model_name": "DescriptionStyleModel",
            "description_width": "",
            "_view_module": "@jupyter-widgets/base",
            "_model_module_version": "1.5.0",
            "_view_count": null,
            "_view_module_version": "1.2.0",
            "_model_module": "@jupyter-widgets/controls"
          }
        },
        "dd44989da1b54423808a25f895aed5bd": {
          "model_module": "@jupyter-widgets/base",
          "model_name": "LayoutModel",
          "state": {
            "_view_name": "LayoutView",
            "grid_template_rows": null,
            "right": null,
            "justify_content": null,
            "_view_module": "@jupyter-widgets/base",
            "overflow": null,
            "_model_module_version": "1.2.0",
            "_view_count": null,
            "flex_flow": null,
            "width": null,
            "min_width": null,
            "border": null,
            "align_items": null,
            "bottom": null,
            "_model_module": "@jupyter-widgets/base",
            "top": null,
            "grid_column": null,
            "overflow_y": null,
            "overflow_x": null,
            "grid_auto_flow": null,
            "grid_area": null,
            "grid_template_columns": null,
            "flex": null,
            "_model_name": "LayoutModel",
            "justify_items": null,
            "grid_row": null,
            "max_height": null,
            "align_content": null,
            "visibility": null,
            "align_self": null,
            "height": null,
            "min_height": null,
            "padding": null,
            "grid_auto_rows": null,
            "grid_gap": null,
            "max_width": null,
            "order": null,
            "_view_module_version": "1.2.0",
            "grid_template_areas": null,
            "object_position": null,
            "object_fit": null,
            "grid_auto_columns": null,
            "margin": null,
            "display": null,
            "left": null
          }
        },
        "f8ae3be621fa4c629d4c4f92814d227c": {
          "model_module": "@jupyter-widgets/controls",
          "model_name": "HBoxModel",
          "state": {
            "_view_name": "HBoxView",
            "_dom_classes": [],
            "_model_name": "HBoxModel",
            "_view_module": "@jupyter-widgets/controls",
            "_model_module_version": "1.5.0",
            "_view_count": null,
            "_view_module_version": "1.5.0",
            "box_style": "",
            "layout": "IPY_MODEL_0b9b5bc3f6a240138275429320b72fa7",
            "_model_module": "@jupyter-widgets/controls",
            "children": [
              "IPY_MODEL_53ecccbc8c034b3680d0926508159bcd",
              "IPY_MODEL_d63971b9c2c74ea1a1f1120025564a3c"
            ]
          }
        },
        "0b9b5bc3f6a240138275429320b72fa7": {
          "model_module": "@jupyter-widgets/base",
          "model_name": "LayoutModel",
          "state": {
            "_view_name": "LayoutView",
            "grid_template_rows": null,
            "right": null,
            "justify_content": null,
            "_view_module": "@jupyter-widgets/base",
            "overflow": null,
            "_model_module_version": "1.2.0",
            "_view_count": null,
            "flex_flow": null,
            "width": null,
            "min_width": null,
            "border": null,
            "align_items": null,
            "bottom": null,
            "_model_module": "@jupyter-widgets/base",
            "top": null,
            "grid_column": null,
            "overflow_y": null,
            "overflow_x": null,
            "grid_auto_flow": null,
            "grid_area": null,
            "grid_template_columns": null,
            "flex": null,
            "_model_name": "LayoutModel",
            "justify_items": null,
            "grid_row": null,
            "max_height": null,
            "align_content": null,
            "visibility": null,
            "align_self": null,
            "height": null,
            "min_height": null,
            "padding": null,
            "grid_auto_rows": null,
            "grid_gap": null,
            "max_width": null,
            "order": null,
            "_view_module_version": "1.2.0",
            "grid_template_areas": null,
            "object_position": null,
            "object_fit": null,
            "grid_auto_columns": null,
            "margin": null,
            "display": null,
            "left": null
          }
        },
        "53ecccbc8c034b3680d0926508159bcd": {
          "model_module": "@jupyter-widgets/controls",
          "model_name": "FloatProgressModel",
          "state": {
            "_view_name": "ProgressView",
            "style": "IPY_MODEL_b0fff842d3d348a9aa278c258be15ce5",
            "_dom_classes": [],
            "description": "Downloading: 100%",
            "_model_name": "FloatProgressModel",
            "bar_style": "success",
            "max": 28,
            "_view_module": "@jupyter-widgets/controls",
            "_model_module_version": "1.5.0",
            "value": 28,
            "_view_count": null,
            "_view_module_version": "1.5.0",
            "orientation": "horizontal",
            "min": 0,
            "description_tooltip": null,
            "_model_module": "@jupyter-widgets/controls",
            "layout": "IPY_MODEL_ce248cd940e14e94bd5ffd18917c0e02"
          }
        },
        "d63971b9c2c74ea1a1f1120025564a3c": {
          "model_module": "@jupyter-widgets/controls",
          "model_name": "HTMLModel",
          "state": {
            "_view_name": "HTMLView",
            "style": "IPY_MODEL_1be070a6cbd14f2eb24c55654907d567",
            "_dom_classes": [],
            "description": "",
            "_model_name": "HTMLModel",
            "placeholder": "​",
            "_view_module": "@jupyter-widgets/controls",
            "_model_module_version": "1.5.0",
            "value": " 28.0/28.0 [00:00&lt;00:00, 45.2B/s]",
            "_view_count": null,
            "_view_module_version": "1.5.0",
            "description_tooltip": null,
            "_model_module": "@jupyter-widgets/controls",
            "layout": "IPY_MODEL_2365c01f3378402b95af9c51dd08c2db"
          }
        },
        "b0fff842d3d348a9aa278c258be15ce5": {
          "model_module": "@jupyter-widgets/controls",
          "model_name": "ProgressStyleModel",
          "state": {
            "_view_name": "StyleView",
            "_model_name": "ProgressStyleModel",
            "description_width": "initial",
            "_view_module": "@jupyter-widgets/base",
            "_model_module_version": "1.5.0",
            "_view_count": null,
            "_view_module_version": "1.2.0",
            "bar_color": null,
            "_model_module": "@jupyter-widgets/controls"
          }
        },
        "ce248cd940e14e94bd5ffd18917c0e02": {
          "model_module": "@jupyter-widgets/base",
          "model_name": "LayoutModel",
          "state": {
            "_view_name": "LayoutView",
            "grid_template_rows": null,
            "right": null,
            "justify_content": null,
            "_view_module": "@jupyter-widgets/base",
            "overflow": null,
            "_model_module_version": "1.2.0",
            "_view_count": null,
            "flex_flow": null,
            "width": null,
            "min_width": null,
            "border": null,
            "align_items": null,
            "bottom": null,
            "_model_module": "@jupyter-widgets/base",
            "top": null,
            "grid_column": null,
            "overflow_y": null,
            "overflow_x": null,
            "grid_auto_flow": null,
            "grid_area": null,
            "grid_template_columns": null,
            "flex": null,
            "_model_name": "LayoutModel",
            "justify_items": null,
            "grid_row": null,
            "max_height": null,
            "align_content": null,
            "visibility": null,
            "align_self": null,
            "height": null,
            "min_height": null,
            "padding": null,
            "grid_auto_rows": null,
            "grid_gap": null,
            "max_width": null,
            "order": null,
            "_view_module_version": "1.2.0",
            "grid_template_areas": null,
            "object_position": null,
            "object_fit": null,
            "grid_auto_columns": null,
            "margin": null,
            "display": null,
            "left": null
          }
        },
        "1be070a6cbd14f2eb24c55654907d567": {
          "model_module": "@jupyter-widgets/controls",
          "model_name": "DescriptionStyleModel",
          "state": {
            "_view_name": "StyleView",
            "_model_name": "DescriptionStyleModel",
            "description_width": "",
            "_view_module": "@jupyter-widgets/base",
            "_model_module_version": "1.5.0",
            "_view_count": null,
            "_view_module_version": "1.2.0",
            "_model_module": "@jupyter-widgets/controls"
          }
        },
        "2365c01f3378402b95af9c51dd08c2db": {
          "model_module": "@jupyter-widgets/base",
          "model_name": "LayoutModel",
          "state": {
            "_view_name": "LayoutView",
            "grid_template_rows": null,
            "right": null,
            "justify_content": null,
            "_view_module": "@jupyter-widgets/base",
            "overflow": null,
            "_model_module_version": "1.2.0",
            "_view_count": null,
            "flex_flow": null,
            "width": null,
            "min_width": null,
            "border": null,
            "align_items": null,
            "bottom": null,
            "_model_module": "@jupyter-widgets/base",
            "top": null,
            "grid_column": null,
            "overflow_y": null,
            "overflow_x": null,
            "grid_auto_flow": null,
            "grid_area": null,
            "grid_template_columns": null,
            "flex": null,
            "_model_name": "LayoutModel",
            "justify_items": null,
            "grid_row": null,
            "max_height": null,
            "align_content": null,
            "visibility": null,
            "align_self": null,
            "height": null,
            "min_height": null,
            "padding": null,
            "grid_auto_rows": null,
            "grid_gap": null,
            "max_width": null,
            "order": null,
            "_view_module_version": "1.2.0",
            "grid_template_areas": null,
            "object_position": null,
            "object_fit": null,
            "grid_auto_columns": null,
            "margin": null,
            "display": null,
            "left": null
          }
        },
        "eb6bedc6c05342f3b29f635bbc4a6a0b": {
          "model_module": "@jupyter-widgets/controls",
          "model_name": "HBoxModel",
          "state": {
            "_view_name": "HBoxView",
            "_dom_classes": [],
            "_model_name": "HBoxModel",
            "_view_module": "@jupyter-widgets/controls",
            "_model_module_version": "1.5.0",
            "_view_count": null,
            "_view_module_version": "1.5.0",
            "box_style": "",
            "layout": "IPY_MODEL_f1c6e0656cbe4e8f831933f37f832100",
            "_model_module": "@jupyter-widgets/controls",
            "children": [
              "IPY_MODEL_3cce1013e9c14ae099341fedd1862adf",
              "IPY_MODEL_e3f0b339b67a4f6694763c052e17ed81"
            ]
          }
        },
        "f1c6e0656cbe4e8f831933f37f832100": {
          "model_module": "@jupyter-widgets/base",
          "model_name": "LayoutModel",
          "state": {
            "_view_name": "LayoutView",
            "grid_template_rows": null,
            "right": null,
            "justify_content": null,
            "_view_module": "@jupyter-widgets/base",
            "overflow": null,
            "_model_module_version": "1.2.0",
            "_view_count": null,
            "flex_flow": null,
            "width": null,
            "min_width": null,
            "border": null,
            "align_items": null,
            "bottom": null,
            "_model_module": "@jupyter-widgets/base",
            "top": null,
            "grid_column": null,
            "overflow_y": null,
            "overflow_x": null,
            "grid_auto_flow": null,
            "grid_area": null,
            "grid_template_columns": null,
            "flex": null,
            "_model_name": "LayoutModel",
            "justify_items": null,
            "grid_row": null,
            "max_height": null,
            "align_content": null,
            "visibility": null,
            "align_self": null,
            "height": null,
            "min_height": null,
            "padding": null,
            "grid_auto_rows": null,
            "grid_gap": null,
            "max_width": null,
            "order": null,
            "_view_module_version": "1.2.0",
            "grid_template_areas": null,
            "object_position": null,
            "object_fit": null,
            "grid_auto_columns": null,
            "margin": null,
            "display": null,
            "left": null
          }
        },
        "3cce1013e9c14ae099341fedd1862adf": {
          "model_module": "@jupyter-widgets/controls",
          "model_name": "FloatProgressModel",
          "state": {
            "_view_name": "ProgressView",
            "style": "IPY_MODEL_b7da93e0fc204a899acf0a0793ae0b54",
            "_dom_classes": [],
            "description": "Downloading: 100%",
            "_model_name": "FloatProgressModel",
            "bar_style": "success",
            "max": 466062,
            "_view_module": "@jupyter-widgets/controls",
            "_model_module_version": "1.5.0",
            "value": 466062,
            "_view_count": null,
            "_view_module_version": "1.5.0",
            "orientation": "horizontal",
            "min": 0,
            "description_tooltip": null,
            "_model_module": "@jupyter-widgets/controls",
            "layout": "IPY_MODEL_887c1e8ed0cf484d92dc361f76990d47"
          }
        },
        "e3f0b339b67a4f6694763c052e17ed81": {
          "model_module": "@jupyter-widgets/controls",
          "model_name": "HTMLModel",
          "state": {
            "_view_name": "HTMLView",
            "style": "IPY_MODEL_df583360df344a17996810fa30740136",
            "_dom_classes": [],
            "description": "",
            "_model_name": "HTMLModel",
            "placeholder": "​",
            "_view_module": "@jupyter-widgets/controls",
            "_model_module_version": "1.5.0",
            "value": " 466k/466k [00:00&lt;00:00, 2.77MB/s]",
            "_view_count": null,
            "_view_module_version": "1.5.0",
            "description_tooltip": null,
            "_model_module": "@jupyter-widgets/controls",
            "layout": "IPY_MODEL_353aaa6495e04157af871efe7f4b551b"
          }
        },
        "b7da93e0fc204a899acf0a0793ae0b54": {
          "model_module": "@jupyter-widgets/controls",
          "model_name": "ProgressStyleModel",
          "state": {
            "_view_name": "StyleView",
            "_model_name": "ProgressStyleModel",
            "description_width": "initial",
            "_view_module": "@jupyter-widgets/base",
            "_model_module_version": "1.5.0",
            "_view_count": null,
            "_view_module_version": "1.2.0",
            "bar_color": null,
            "_model_module": "@jupyter-widgets/controls"
          }
        },
        "887c1e8ed0cf484d92dc361f76990d47": {
          "model_module": "@jupyter-widgets/base",
          "model_name": "LayoutModel",
          "state": {
            "_view_name": "LayoutView",
            "grid_template_rows": null,
            "right": null,
            "justify_content": null,
            "_view_module": "@jupyter-widgets/base",
            "overflow": null,
            "_model_module_version": "1.2.0",
            "_view_count": null,
            "flex_flow": null,
            "width": null,
            "min_width": null,
            "border": null,
            "align_items": null,
            "bottom": null,
            "_model_module": "@jupyter-widgets/base",
            "top": null,
            "grid_column": null,
            "overflow_y": null,
            "overflow_x": null,
            "grid_auto_flow": null,
            "grid_area": null,
            "grid_template_columns": null,
            "flex": null,
            "_model_name": "LayoutModel",
            "justify_items": null,
            "grid_row": null,
            "max_height": null,
            "align_content": null,
            "visibility": null,
            "align_self": null,
            "height": null,
            "min_height": null,
            "padding": null,
            "grid_auto_rows": null,
            "grid_gap": null,
            "max_width": null,
            "order": null,
            "_view_module_version": "1.2.0",
            "grid_template_areas": null,
            "object_position": null,
            "object_fit": null,
            "grid_auto_columns": null,
            "margin": null,
            "display": null,
            "left": null
          }
        },
        "df583360df344a17996810fa30740136": {
          "model_module": "@jupyter-widgets/controls",
          "model_name": "DescriptionStyleModel",
          "state": {
            "_view_name": "StyleView",
            "_model_name": "DescriptionStyleModel",
            "description_width": "",
            "_view_module": "@jupyter-widgets/base",
            "_model_module_version": "1.5.0",
            "_view_count": null,
            "_view_module_version": "1.2.0",
            "_model_module": "@jupyter-widgets/controls"
          }
        },
        "353aaa6495e04157af871efe7f4b551b": {
          "model_module": "@jupyter-widgets/base",
          "model_name": "LayoutModel",
          "state": {
            "_view_name": "LayoutView",
            "grid_template_rows": null,
            "right": null,
            "justify_content": null,
            "_view_module": "@jupyter-widgets/base",
            "overflow": null,
            "_model_module_version": "1.2.0",
            "_view_count": null,
            "flex_flow": null,
            "width": null,
            "min_width": null,
            "border": null,
            "align_items": null,
            "bottom": null,
            "_model_module": "@jupyter-widgets/base",
            "top": null,
            "grid_column": null,
            "overflow_y": null,
            "overflow_x": null,
            "grid_auto_flow": null,
            "grid_area": null,
            "grid_template_columns": null,
            "flex": null,
            "_model_name": "LayoutModel",
            "justify_items": null,
            "grid_row": null,
            "max_height": null,
            "align_content": null,
            "visibility": null,
            "align_self": null,
            "height": null,
            "min_height": null,
            "padding": null,
            "grid_auto_rows": null,
            "grid_gap": null,
            "max_width": null,
            "order": null,
            "_view_module_version": "1.2.0",
            "grid_template_areas": null,
            "object_position": null,
            "object_fit": null,
            "grid_auto_columns": null,
            "margin": null,
            "display": null,
            "left": null
          }
        },
        "30c9560edc414149bae34049cccd4a9b": {
          "model_module": "@jupyter-widgets/controls",
          "model_name": "HBoxModel",
          "state": {
            "_view_name": "HBoxView",
            "_dom_classes": [],
            "_model_name": "HBoxModel",
            "_view_module": "@jupyter-widgets/controls",
            "_model_module_version": "1.5.0",
            "_view_count": null,
            "_view_module_version": "1.5.0",
            "box_style": "",
            "layout": "IPY_MODEL_292fbff2b65245439337d75c5a29e6b2",
            "_model_module": "@jupyter-widgets/controls",
            "children": [
              "IPY_MODEL_304fa75d9f764f45ac632c7c1ed6831f",
              "IPY_MODEL_76965fc473bd4bd9b7f45f791f0effc4"
            ]
          }
        },
        "292fbff2b65245439337d75c5a29e6b2": {
          "model_module": "@jupyter-widgets/base",
          "model_name": "LayoutModel",
          "state": {
            "_view_name": "LayoutView",
            "grid_template_rows": null,
            "right": null,
            "justify_content": null,
            "_view_module": "@jupyter-widgets/base",
            "overflow": null,
            "_model_module_version": "1.2.0",
            "_view_count": null,
            "flex_flow": null,
            "width": null,
            "min_width": null,
            "border": null,
            "align_items": null,
            "bottom": null,
            "_model_module": "@jupyter-widgets/base",
            "top": null,
            "grid_column": null,
            "overflow_y": null,
            "overflow_x": null,
            "grid_auto_flow": null,
            "grid_area": null,
            "grid_template_columns": null,
            "flex": null,
            "_model_name": "LayoutModel",
            "justify_items": null,
            "grid_row": null,
            "max_height": null,
            "align_content": null,
            "visibility": null,
            "align_self": null,
            "height": null,
            "min_height": null,
            "padding": null,
            "grid_auto_rows": null,
            "grid_gap": null,
            "max_width": null,
            "order": null,
            "_view_module_version": "1.2.0",
            "grid_template_areas": null,
            "object_position": null,
            "object_fit": null,
            "grid_auto_columns": null,
            "margin": null,
            "display": null,
            "left": null
          }
        },
        "304fa75d9f764f45ac632c7c1ed6831f": {
          "model_module": "@jupyter-widgets/controls",
          "model_name": "FloatProgressModel",
          "state": {
            "_view_name": "ProgressView",
            "style": "IPY_MODEL_8a993f61d20d44318943f96a9f12aa36",
            "_dom_classes": [],
            "description": "Downloading: 100%",
            "_model_name": "FloatProgressModel",
            "bar_style": "success",
            "max": 442,
            "_view_module": "@jupyter-widgets/controls",
            "_model_module_version": "1.5.0",
            "value": 442,
            "_view_count": null,
            "_view_module_version": "1.5.0",
            "orientation": "horizontal",
            "min": 0,
            "description_tooltip": null,
            "_model_module": "@jupyter-widgets/controls",
            "layout": "IPY_MODEL_79f5dc27f01a49f2b6fc391335bca417"
          }
        },
        "76965fc473bd4bd9b7f45f791f0effc4": {
          "model_module": "@jupyter-widgets/controls",
          "model_name": "HTMLModel",
          "state": {
            "_view_name": "HTMLView",
            "style": "IPY_MODEL_5d41832d284f4ca490b789ab28185431",
            "_dom_classes": [],
            "description": "",
            "_model_name": "HTMLModel",
            "placeholder": "​",
            "_view_module": "@jupyter-widgets/controls",
            "_model_module_version": "1.5.0",
            "value": " 442/442 [00:00&lt;00:00, 1.03kB/s]",
            "_view_count": null,
            "_view_module_version": "1.5.0",
            "description_tooltip": null,
            "_model_module": "@jupyter-widgets/controls",
            "layout": "IPY_MODEL_a7e87ab0d9c14d5ca5acba6d198ee2df"
          }
        },
        "8a993f61d20d44318943f96a9f12aa36": {
          "model_module": "@jupyter-widgets/controls",
          "model_name": "ProgressStyleModel",
          "state": {
            "_view_name": "StyleView",
            "_model_name": "ProgressStyleModel",
            "description_width": "initial",
            "_view_module": "@jupyter-widgets/base",
            "_model_module_version": "1.5.0",
            "_view_count": null,
            "_view_module_version": "1.2.0",
            "bar_color": null,
            "_model_module": "@jupyter-widgets/controls"
          }
        },
        "79f5dc27f01a49f2b6fc391335bca417": {
          "model_module": "@jupyter-widgets/base",
          "model_name": "LayoutModel",
          "state": {
            "_view_name": "LayoutView",
            "grid_template_rows": null,
            "right": null,
            "justify_content": null,
            "_view_module": "@jupyter-widgets/base",
            "overflow": null,
            "_model_module_version": "1.2.0",
            "_view_count": null,
            "flex_flow": null,
            "width": null,
            "min_width": null,
            "border": null,
            "align_items": null,
            "bottom": null,
            "_model_module": "@jupyter-widgets/base",
            "top": null,
            "grid_column": null,
            "overflow_y": null,
            "overflow_x": null,
            "grid_auto_flow": null,
            "grid_area": null,
            "grid_template_columns": null,
            "flex": null,
            "_model_name": "LayoutModel",
            "justify_items": null,
            "grid_row": null,
            "max_height": null,
            "align_content": null,
            "visibility": null,
            "align_self": null,
            "height": null,
            "min_height": null,
            "padding": null,
            "grid_auto_rows": null,
            "grid_gap": null,
            "max_width": null,
            "order": null,
            "_view_module_version": "1.2.0",
            "grid_template_areas": null,
            "object_position": null,
            "object_fit": null,
            "grid_auto_columns": null,
            "margin": null,
            "display": null,
            "left": null
          }
        },
        "5d41832d284f4ca490b789ab28185431": {
          "model_module": "@jupyter-widgets/controls",
          "model_name": "DescriptionStyleModel",
          "state": {
            "_view_name": "StyleView",
            "_model_name": "DescriptionStyleModel",
            "description_width": "",
            "_view_module": "@jupyter-widgets/base",
            "_model_module_version": "1.5.0",
            "_view_count": null,
            "_view_module_version": "1.2.0",
            "_model_module": "@jupyter-widgets/controls"
          }
        },
        "a7e87ab0d9c14d5ca5acba6d198ee2df": {
          "model_module": "@jupyter-widgets/base",
          "model_name": "LayoutModel",
          "state": {
            "_view_name": "LayoutView",
            "grid_template_rows": null,
            "right": null,
            "justify_content": null,
            "_view_module": "@jupyter-widgets/base",
            "overflow": null,
            "_model_module_version": "1.2.0",
            "_view_count": null,
            "flex_flow": null,
            "width": null,
            "min_width": null,
            "border": null,
            "align_items": null,
            "bottom": null,
            "_model_module": "@jupyter-widgets/base",
            "top": null,
            "grid_column": null,
            "overflow_y": null,
            "overflow_x": null,
            "grid_auto_flow": null,
            "grid_area": null,
            "grid_template_columns": null,
            "flex": null,
            "_model_name": "LayoutModel",
            "justify_items": null,
            "grid_row": null,
            "max_height": null,
            "align_content": null,
            "visibility": null,
            "align_self": null,
            "height": null,
            "min_height": null,
            "padding": null,
            "grid_auto_rows": null,
            "grid_gap": null,
            "max_width": null,
            "order": null,
            "_view_module_version": "1.2.0",
            "grid_template_areas": null,
            "object_position": null,
            "object_fit": null,
            "grid_auto_columns": null,
            "margin": null,
            "display": null,
            "left": null
          }
        },
        "09deab5d73d545738cbae347b3ccaa51": {
          "model_module": "@jupyter-widgets/controls",
          "model_name": "HBoxModel",
          "state": {
            "_view_name": "HBoxView",
            "_dom_classes": [],
            "_model_name": "HBoxModel",
            "_view_module": "@jupyter-widgets/controls",
            "_model_module_version": "1.5.0",
            "_view_count": null,
            "_view_module_version": "1.5.0",
            "box_style": "",
            "layout": "IPY_MODEL_62e40afc3715419fbc33e72209b91a86",
            "_model_module": "@jupyter-widgets/controls",
            "children": [
              "IPY_MODEL_2e589a7953c0473c9de2fa7e88967279",
              "IPY_MODEL_296f914122fd44b197c548fc2d45bdf2"
            ]
          }
        },
        "62e40afc3715419fbc33e72209b91a86": {
          "model_module": "@jupyter-widgets/base",
          "model_name": "LayoutModel",
          "state": {
            "_view_name": "LayoutView",
            "grid_template_rows": null,
            "right": null,
            "justify_content": null,
            "_view_module": "@jupyter-widgets/base",
            "overflow": null,
            "_model_module_version": "1.2.0",
            "_view_count": null,
            "flex_flow": null,
            "width": null,
            "min_width": null,
            "border": null,
            "align_items": null,
            "bottom": null,
            "_model_module": "@jupyter-widgets/base",
            "top": null,
            "grid_column": null,
            "overflow_y": null,
            "overflow_x": null,
            "grid_auto_flow": null,
            "grid_area": null,
            "grid_template_columns": null,
            "flex": null,
            "_model_name": "LayoutModel",
            "justify_items": null,
            "grid_row": null,
            "max_height": null,
            "align_content": null,
            "visibility": null,
            "align_self": null,
            "height": null,
            "min_height": null,
            "padding": null,
            "grid_auto_rows": null,
            "grid_gap": null,
            "max_width": null,
            "order": null,
            "_view_module_version": "1.2.0",
            "grid_template_areas": null,
            "object_position": null,
            "object_fit": null,
            "grid_auto_columns": null,
            "margin": null,
            "display": null,
            "left": null
          }
        },
        "2e589a7953c0473c9de2fa7e88967279": {
          "model_module": "@jupyter-widgets/controls",
          "model_name": "FloatProgressModel",
          "state": {
            "_view_name": "ProgressView",
            "style": "IPY_MODEL_191dac32f1094d05831f7dda0a743cbf",
            "_dom_classes": [],
            "description": "Downloading: 100%",
            "_model_name": "FloatProgressModel",
            "bar_style": "success",
            "max": 267967963,
            "_view_module": "@jupyter-widgets/controls",
            "_model_module_version": "1.5.0",
            "value": 267967963,
            "_view_count": null,
            "_view_module_version": "1.5.0",
            "orientation": "horizontal",
            "min": 0,
            "description_tooltip": null,
            "_model_module": "@jupyter-widgets/controls",
            "layout": "IPY_MODEL_cd31568653d946518d4d450a9df72444"
          }
        },
        "296f914122fd44b197c548fc2d45bdf2": {
          "model_module": "@jupyter-widgets/controls",
          "model_name": "HTMLModel",
          "state": {
            "_view_name": "HTMLView",
            "style": "IPY_MODEL_509fde4c84c14962974ba7d498fa73e5",
            "_dom_classes": [],
            "description": "",
            "_model_name": "HTMLModel",
            "placeholder": "​",
            "_view_module": "@jupyter-widgets/controls",
            "_model_module_version": "1.5.0",
            "value": " 268M/268M [00:05&lt;00:00, 47.0MB/s]",
            "_view_count": null,
            "_view_module_version": "1.5.0",
            "description_tooltip": null,
            "_model_module": "@jupyter-widgets/controls",
            "layout": "IPY_MODEL_4d158e52d7d64cd8bb7da3fc84899a6e"
          }
        },
        "191dac32f1094d05831f7dda0a743cbf": {
          "model_module": "@jupyter-widgets/controls",
          "model_name": "ProgressStyleModel",
          "state": {
            "_view_name": "StyleView",
            "_model_name": "ProgressStyleModel",
            "description_width": "initial",
            "_view_module": "@jupyter-widgets/base",
            "_model_module_version": "1.5.0",
            "_view_count": null,
            "_view_module_version": "1.2.0",
            "bar_color": null,
            "_model_module": "@jupyter-widgets/controls"
          }
        },
        "cd31568653d946518d4d450a9df72444": {
          "model_module": "@jupyter-widgets/base",
          "model_name": "LayoutModel",
          "state": {
            "_view_name": "LayoutView",
            "grid_template_rows": null,
            "right": null,
            "justify_content": null,
            "_view_module": "@jupyter-widgets/base",
            "overflow": null,
            "_model_module_version": "1.2.0",
            "_view_count": null,
            "flex_flow": null,
            "width": null,
            "min_width": null,
            "border": null,
            "align_items": null,
            "bottom": null,
            "_model_module": "@jupyter-widgets/base",
            "top": null,
            "grid_column": null,
            "overflow_y": null,
            "overflow_x": null,
            "grid_auto_flow": null,
            "grid_area": null,
            "grid_template_columns": null,
            "flex": null,
            "_model_name": "LayoutModel",
            "justify_items": null,
            "grid_row": null,
            "max_height": null,
            "align_content": null,
            "visibility": null,
            "align_self": null,
            "height": null,
            "min_height": null,
            "padding": null,
            "grid_auto_rows": null,
            "grid_gap": null,
            "max_width": null,
            "order": null,
            "_view_module_version": "1.2.0",
            "grid_template_areas": null,
            "object_position": null,
            "object_fit": null,
            "grid_auto_columns": null,
            "margin": null,
            "display": null,
            "left": null
          }
        },
        "509fde4c84c14962974ba7d498fa73e5": {
          "model_module": "@jupyter-widgets/controls",
          "model_name": "DescriptionStyleModel",
          "state": {
            "_view_name": "StyleView",
            "_model_name": "DescriptionStyleModel",
            "description_width": "",
            "_view_module": "@jupyter-widgets/base",
            "_model_module_version": "1.5.0",
            "_view_count": null,
            "_view_module_version": "1.2.0",
            "_model_module": "@jupyter-widgets/controls"
          }
        },
        "4d158e52d7d64cd8bb7da3fc84899a6e": {
          "model_module": "@jupyter-widgets/base",
          "model_name": "LayoutModel",
          "state": {
            "_view_name": "LayoutView",
            "grid_template_rows": null,
            "right": null,
            "justify_content": null,
            "_view_module": "@jupyter-widgets/base",
            "overflow": null,
            "_model_module_version": "1.2.0",
            "_view_count": null,
            "flex_flow": null,
            "width": null,
            "min_width": null,
            "border": null,
            "align_items": null,
            "bottom": null,
            "_model_module": "@jupyter-widgets/base",
            "top": null,
            "grid_column": null,
            "overflow_y": null,
            "overflow_x": null,
            "grid_auto_flow": null,
            "grid_area": null,
            "grid_template_columns": null,
            "flex": null,
            "_model_name": "LayoutModel",
            "justify_items": null,
            "grid_row": null,
            "max_height": null,
            "align_content": null,
            "visibility": null,
            "align_self": null,
            "height": null,
            "min_height": null,
            "padding": null,
            "grid_auto_rows": null,
            "grid_gap": null,
            "max_width": null,
            "order": null,
            "_view_module_version": "1.2.0",
            "grid_template_areas": null,
            "object_position": null,
            "object_fit": null,
            "grid_auto_columns": null,
            "margin": null,
            "display": null,
            "left": null
          }
        }
      }
    }
  },
  "cells": [
    {
      "cell_type": "markdown",
      "metadata": {
        "id": "fVdGhjZz3GWP"
      },
      "source": [
        "# Question Classification with DistilBert"
      ]
    },
    {
      "cell_type": "markdown",
      "metadata": {
        "id": "xtJGUGgofCm9"
      },
      "source": [
        "Different Classes\n",
        "1.   HUM for questions about humans\n",
        "2.   ENTY for questions about entities\n",
        "3.   DESC for questions asking you for a description\n",
        "4.   NUM for questions where the answer is numerical\n",
        "5.   LOC for questions where the answer is a location\n",
        "6.   ABBR for questions asking about abbreviations"
      ]
    },
    {
      "cell_type": "markdown",
      "metadata": {
        "id": "yX7A5RkR3-hn"
      },
      "source": [
        "# 1. Import Libraries"
      ]
    },
    {
      "cell_type": "code",
      "metadata": {
        "colab": {
          "base_uri": "https://localhost:8080/"
        },
        "id": "DOATYP-6ECJQ",
        "outputId": "8006f365-ee6e-4427-fd41-07b0f8becd75"
      },
      "source": [
        "# Install Transformers Package\n",
        "!pip install transformers"
      ],
      "execution_count": 4,
      "outputs": [
        {
          "output_type": "stream",
          "text": [
            "Collecting transformers\n",
            "\u001b[?25l  Downloading https://files.pythonhosted.org/packages/fd/1a/41c644c963249fd7f3836d926afa1e3f1cc234a1c40d80c5f03ad8f6f1b2/transformers-4.8.2-py3-none-any.whl (2.5MB)\n",
            "\u001b[K     |████████████████████████████████| 2.5MB 7.5MB/s \n",
            "\u001b[?25hRequirement already satisfied: numpy>=1.17 in /usr/local/lib/python3.7/dist-packages (from transformers) (1.19.5)\n",
            "Collecting sacremoses\n",
            "\u001b[?25l  Downloading https://files.pythonhosted.org/packages/75/ee/67241dc87f266093c533a2d4d3d69438e57d7a90abb216fa076e7d475d4a/sacremoses-0.0.45-py3-none-any.whl (895kB)\n",
            "\u001b[K     |████████████████████████████████| 901kB 46.3MB/s \n",
            "\u001b[?25hRequirement already satisfied: packaging in /usr/local/lib/python3.7/dist-packages (from transformers) (20.9)\n",
            "Requirement already satisfied: pyyaml in /usr/local/lib/python3.7/dist-packages (from transformers) (3.13)\n",
            "Collecting huggingface-hub==0.0.12\n",
            "  Downloading https://files.pythonhosted.org/packages/2f/ee/97e253668fda9b17e968b3f97b2f8e53aa0127e8807d24a547687423fe0b/huggingface_hub-0.0.12-py3-none-any.whl\n",
            "Requirement already satisfied: importlib-metadata; python_version < \"3.8\" in /usr/local/lib/python3.7/dist-packages (from transformers) (4.6.0)\n",
            "Requirement already satisfied: filelock in /usr/local/lib/python3.7/dist-packages (from transformers) (3.0.12)\n",
            "Requirement already satisfied: requests in /usr/local/lib/python3.7/dist-packages (from transformers) (2.23.0)\n",
            "Collecting tokenizers<0.11,>=0.10.1\n",
            "\u001b[?25l  Downloading https://files.pythonhosted.org/packages/d4/e2/df3543e8ffdab68f5acc73f613de9c2b155ac47f162e725dcac87c521c11/tokenizers-0.10.3-cp37-cp37m-manylinux_2_5_x86_64.manylinux1_x86_64.manylinux_2_12_x86_64.manylinux2010_x86_64.whl (3.3MB)\n",
            "\u001b[K     |████████████████████████████████| 3.3MB 49.1MB/s \n",
            "\u001b[?25hRequirement already satisfied: regex!=2019.12.17 in /usr/local/lib/python3.7/dist-packages (from transformers) (2019.12.20)\n",
            "Requirement already satisfied: tqdm>=4.27 in /usr/local/lib/python3.7/dist-packages (from transformers) (4.41.1)\n",
            "Requirement already satisfied: joblib in /usr/local/lib/python3.7/dist-packages (from sacremoses->transformers) (1.0.1)\n",
            "Requirement already satisfied: six in /usr/local/lib/python3.7/dist-packages (from sacremoses->transformers) (1.15.0)\n",
            "Requirement already satisfied: click in /usr/local/lib/python3.7/dist-packages (from sacremoses->transformers) (7.1.2)\n",
            "Requirement already satisfied: pyparsing>=2.0.2 in /usr/local/lib/python3.7/dist-packages (from packaging->transformers) (2.4.7)\n",
            "Requirement already satisfied: typing-extensions in /usr/local/lib/python3.7/dist-packages (from huggingface-hub==0.0.12->transformers) (3.7.4.3)\n",
            "Requirement already satisfied: zipp>=0.5 in /usr/local/lib/python3.7/dist-packages (from importlib-metadata; python_version < \"3.8\"->transformers) (3.4.1)\n",
            "Requirement already satisfied: idna<3,>=2.5 in /usr/local/lib/python3.7/dist-packages (from requests->transformers) (2.10)\n",
            "Requirement already satisfied: certifi>=2017.4.17 in /usr/local/lib/python3.7/dist-packages (from requests->transformers) (2021.5.30)\n",
            "Requirement already satisfied: urllib3!=1.25.0,!=1.25.1,<1.26,>=1.21.1 in /usr/local/lib/python3.7/dist-packages (from requests->transformers) (1.24.3)\n",
            "Requirement already satisfied: chardet<4,>=3.0.2 in /usr/local/lib/python3.7/dist-packages (from requests->transformers) (3.0.4)\n",
            "Installing collected packages: sacremoses, huggingface-hub, tokenizers, transformers\n",
            "Successfully installed huggingface-hub-0.0.12 sacremoses-0.0.45 tokenizers-0.10.3 transformers-4.8.2\n"
          ],
          "name": "stdout"
        }
      ]
    },
    {
      "cell_type": "code",
      "metadata": {
        "id": "lDXrSZViDjKX"
      },
      "source": [
        "# Libraries\n",
        "\n",
        "import matplotlib.pyplot as plt\n",
        "import pandas as pd\n",
        "import torch\n",
        "\n",
        "import numpy as np\n",
        "from torchtext.legacy import data\n",
        "from torchtext.legacy import datasets\n",
        "import torch.nn.functional as F\n",
        "\n",
        "# Preliminaries\n",
        "\n",
        "from torchtext.legacy.data import Field, LabelField, TabularDataset, BucketIterator, Iterator\n",
        "\n",
        "# Models\n",
        "\n",
        "import torch.nn as nn\n",
        "from transformers import DistilBertTokenizer, DistilBertModel\n",
        "\n",
        "# Training\n",
        "\n",
        "import torch.optim as optim\n",
        "\n",
        "# Evaluation\n",
        "\n",
        "from sklearn.metrics import accuracy_score, classification_report, confusion_matrix\n",
        "import seaborn as sns"
      ],
      "execution_count": 5,
      "outputs": []
    },
    {
      "cell_type": "markdown",
      "metadata": {
        "id": "3TbhEreA4D6X"
      },
      "source": [
        "# 2. Preprocessing--Build Fileds, Create Vocab and Dataloaders"
      ]
    },
    {
      "cell_type": "code",
      "metadata": {
        "id": "m10VKX52D7YD",
        "colab": {
          "base_uri": "https://localhost:8080/",
          "height": 164,
          "referenced_widgets": [
            "f83e3ccdcd9b4e259f435220bb6659ef",
            "bfe30eb9d09d45bbbb8f6d258ae475dc",
            "479208fbc4a74d55bb6432cf7f65bf59",
            "beac1d0c4e4e4a04ba122c066ac8fc23",
            "dd45d0019d9248488e73767608d8f655",
            "4052f9050c3f4ea18167f49f982591a3",
            "d91ebd320b4140c087cbe744e63d612c",
            "dd44989da1b54423808a25f895aed5bd",
            "f8ae3be621fa4c629d4c4f92814d227c",
            "0b9b5bc3f6a240138275429320b72fa7",
            "53ecccbc8c034b3680d0926508159bcd",
            "d63971b9c2c74ea1a1f1120025564a3c",
            "b0fff842d3d348a9aa278c258be15ce5",
            "ce248cd940e14e94bd5ffd18917c0e02",
            "1be070a6cbd14f2eb24c55654907d567",
            "2365c01f3378402b95af9c51dd08c2db",
            "eb6bedc6c05342f3b29f635bbc4a6a0b",
            "f1c6e0656cbe4e8f831933f37f832100",
            "3cce1013e9c14ae099341fedd1862adf",
            "e3f0b339b67a4f6694763c052e17ed81",
            "b7da93e0fc204a899acf0a0793ae0b54",
            "887c1e8ed0cf484d92dc361f76990d47",
            "df583360df344a17996810fa30740136",
            "353aaa6495e04157af871efe7f4b551b"
          ]
        },
        "outputId": "944846fd-cfc8-492e-da96-06ab055c2ece"
      },
      "source": [
        "# Load Tokenizer\n",
        "tokenizer = DistilBertTokenizer.from_pretrained('distilbert-base-uncased')"
      ],
      "execution_count": 6,
      "outputs": [
        {
          "output_type": "display_data",
          "data": {
            "application/vnd.jupyter.widget-view+json": {
              "model_id": "f83e3ccdcd9b4e259f435220bb6659ef",
              "version_minor": 0,
              "version_major": 2
            },
            "text/plain": [
              "HBox(children=(FloatProgress(value=0.0, description='Downloading', max=231508.0, style=ProgressStyle(descripti…"
            ]
          },
          "metadata": {
            "tags": []
          }
        },
        {
          "output_type": "stream",
          "text": [
            "\n"
          ],
          "name": "stdout"
        },
        {
          "output_type": "display_data",
          "data": {
            "application/vnd.jupyter.widget-view+json": {
              "model_id": "f8ae3be621fa4c629d4c4f92814d227c",
              "version_minor": 0,
              "version_major": 2
            },
            "text/plain": [
              "HBox(children=(FloatProgress(value=0.0, description='Downloading', max=28.0, style=ProgressStyle(description_w…"
            ]
          },
          "metadata": {
            "tags": []
          }
        },
        {
          "output_type": "stream",
          "text": [
            "\n"
          ],
          "name": "stdout"
        },
        {
          "output_type": "display_data",
          "data": {
            "application/vnd.jupyter.widget-view+json": {
              "model_id": "eb6bedc6c05342f3b29f635bbc4a6a0b",
              "version_minor": 0,
              "version_major": 2
            },
            "text/plain": [
              "HBox(children=(FloatProgress(value=0.0, description='Downloading', max=466062.0, style=ProgressStyle(descripti…"
            ]
          },
          "metadata": {
            "tags": []
          }
        },
        {
          "output_type": "stream",
          "text": [
            "\n"
          ],
          "name": "stdout"
        }
      ]
    },
    {
      "cell_type": "code",
      "metadata": {
        "id": "OaSEIjKyE6_S",
        "colab": {
          "base_uri": "https://localhost:8080/"
        },
        "outputId": "31e636da-70a2-469a-9887-e802b83cfb64"
      },
      "source": [
        "# Decalre max sequence length\n",
        "MAX_SEQ_LEN = 64\n",
        "\n",
        "# Create fields\n",
        "text_field = Field(sequential=True, use_vocab=False, tokenize=tokenizer.encode, batch_first=True,\n",
        "                   fix_length = MAX_SEQ_LEN, pad_token=tokenizer.pad_token_id, unk_token=tokenizer.unk_token_id)\n",
        "label_field = LabelField(sequential=False, batch_first=True)\n",
        "\n",
        "# Split dataset with fields\n",
        "train_data, test_data = datasets.TREC.splits(text_field, label_field)\n",
        "train_data, valid_data = train_data.split([0.8, 0.2])"
      ],
      "execution_count": 7,
      "outputs": [
        {
          "output_type": "stream",
          "text": [
            "downloading train_5500.label\n"
          ],
          "name": "stdout"
        },
        {
          "output_type": "stream",
          "text": [
            "train_5500.label: 100%|██████████| 336k/336k [00:00<00:00, 1.32MB/s]\n"
          ],
          "name": "stderr"
        },
        {
          "output_type": "stream",
          "text": [
            "downloading TREC_10.label\n"
          ],
          "name": "stdout"
        },
        {
          "output_type": "stream",
          "text": [
            "TREC_10.label: 100%|██████████| 23.4k/23.4k [00:00<00:00, 362kB/s]\n"
          ],
          "name": "stderr"
        }
      ]
    },
    {
      "cell_type": "code",
      "metadata": {
        "id": "qWPmE8Y_JYkf"
      },
      "source": [
        "# Create vocab for label_field\n",
        "label_field.build_vocab(train_data)\n",
        "#vars(label_field.vocab)"
      ],
      "execution_count": 8,
      "outputs": []
    },
    {
      "cell_type": "code",
      "metadata": {
        "id": "eiFVe-gTLM2g"
      },
      "source": [
        "# Create dataloaders with datasets\n",
        "BATCH_SIZE = 128\n",
        "device = torch.device('cuda' if torch.cuda.is_available() else 'cpu')\n",
        "train_iterator, valid_iterator, test_iterator = BucketIterator.splits((train_data, valid_data, test_data), \n",
        "                                                                            batch_size = BATCH_SIZE, \n",
        "                                                                            device = device)"
      ],
      "execution_count": 9,
      "outputs": []
    },
    {
      "cell_type": "markdown",
      "metadata": {
        "id": "MSoZ-yBc54F8"
      },
      "source": [
        "# 3. Model Implementation"
      ]
    },
    {
      "cell_type": "code",
      "metadata": {
        "id": "PvCRsIX8ZLvN"
      },
      "source": [
        "class Transformer(nn.Module):\n",
        "    def __init__(self, output_dim, freeze=True):\n",
        "        super().__init__()\n",
        "        self.transformer = DistilBertModel.from_pretrained('distilbert-base-uncased')\n",
        "        self.hidden_dim = int(768)\n",
        "        self.fc = nn.Linear(self.hidden_dim, 256)\n",
        "        self.linear = nn.Linear(256, output_dim)\n",
        "        \n",
        "        if freeze:\n",
        "            for param in self.transformer.parameters():\n",
        "                param.requires_grad = False\n",
        "        \n",
        "    def forward(self, ids):\n",
        "        # ids = [batch size, seq len]\n",
        "        output = self.transformer(ids, output_attentions=True)\n",
        "        hidden = output.last_hidden_state\n",
        "        # hidden = [batch size, seq len, hidden dim]\n",
        "        attention = output.attentions[-1]\n",
        "        # attention = [batch size, n heads, seq len, seq len]\n",
        "        cls_hidden = hidden[:,0,:]\n",
        "        fced = F.relu(self.fc(torch.tanh(cls_hidden)))\n",
        "        # prediction = [batch size, output dim]\n",
        "        return self.linear(fced)"
      ],
      "execution_count": 10,
      "outputs": []
    },
    {
      "cell_type": "code",
      "metadata": {
        "id": "kXrTR6Fe6Yu9"
      },
      "source": [
        "# Count parameters\n",
        "def count_parameters(model):\n",
        "    return sum(p.numel() for p in model.parameters() if p.requires_grad)"
      ],
      "execution_count": 12,
      "outputs": []
    },
    {
      "cell_type": "markdown",
      "metadata": {
        "id": "PRdwNeUB6FSi"
      },
      "source": [
        "# 4. Define Training and Evaluating Functions"
      ]
    },
    {
      "cell_type": "code",
      "metadata": {
        "id": "kuLsgYVNf5nO"
      },
      "source": [
        "# Define Train and Evaluate Function\n",
        "\n",
        "def train(model, device, train_loader, valid_loader, optimizer, criterion, epoch, log_interval=1, dry_run=False, save=False):\n",
        "    model.to(device)\n",
        "    criterion.to(device)\n",
        "    model.train()\n",
        "    best_loss = np.inf\n",
        "    for ep in range(1, epoch+1):\n",
        "        current = 0\n",
        "        for batch_idx, (data, target) in enumerate(train_loader):\n",
        "            data, target = data.to(device), target.to(device)\n",
        "            optimizer.zero_grad()\n",
        "            output = model(data)\n",
        "            loss = criterion(output, target)\n",
        "            loss.backward()\n",
        "            optimizer.step()\n",
        "            current += len(data)\n",
        "            if batch_idx % log_interval == 0:\n",
        "                print('Train Epoch: {} [{}/{} ({:.0f}%)]\\tLoss: {:.6f}'.format(\n",
        "                    ep, current, len(train_loader.dataset),\n",
        "                    100. * current / len(train_loader.dataset), loss.item()))\n",
        "                if dry_run:\n",
        "                    break\n",
        "        loss, _, _, _ = test(model, device, valid_loader, nn.CrossEntropyLoss(reduction='sum'), validation=True)\n",
        "        if save:\n",
        "            if loss < best_loss:\n",
        "                best_loss = loss\n",
        "                torch.save(model.state_dict(), 'checkpoint.pt')\n",
        "                print('***Model Updated***')\n",
        "\n",
        "def test(model, device, test_loader, criterion, validation=False):\n",
        "    model.to(device)\n",
        "    criterion.to(device)\n",
        "    model.eval()\n",
        "    test_loss = 0\n",
        "    correct = 0\n",
        "    wrongx = []\n",
        "    wrongy = []\n",
        "    truey = []\n",
        "    with torch.no_grad():\n",
        "        for data, target in test_loader:\n",
        "            data, target = data.to(device), target.to(device)\n",
        "            output = model(data)\n",
        "            # test_loss += criterion(output, target, reduction='sum').item()  # sum up batch loss\n",
        "            test_loss += criterion(output, target).item()  # sum up batch loss\n",
        "            pred = output.argmax(dim=1, keepdim=True)  # get the index of the max log-probability\n",
        "            correct += pred.eq(target.view_as(pred)).sum().item()\n",
        "\n",
        "            selector = ~pred.eq(target.view_as(pred)).squeeze(1)\n",
        "            # print(selector.shape)\n",
        "            wrongx.append(data[selector])\n",
        "            wrongy.append(pred[selector])\n",
        "            truey.append(target[selector])\n",
        "            #print(selector.shape)\n",
        "            #print(data[selector].shape)\n",
        "\n",
        "    test_loss /= len(test_loader.dataset)\n",
        "    if validation:\n",
        "        print('\\nValidation set: Average loss: {:.4f}, Accuracy: {}/{} ({:.2f}%)\\n'.format(\n",
        "            test_loss, correct, len(test_loader.dataset),\n",
        "            100. * correct / len(test_loader.dataset)))\n",
        "    else:\n",
        "        print('\\nTest set: Average loss: {:.4f}, Accuracy: {}/{} ({:.2f}%)\\n'.format(\n",
        "            test_loss, correct, len(test_loader.dataset),\n",
        "            100. * correct / len(test_loader.dataset)))\n",
        "    \n",
        "    wrongx = torch.cat( wrongx, dim=0 )\n",
        "    wrongy = torch.cat( wrongy, dim=0 )\n",
        "    truey = torch.cat( truey, dim=0 )\n",
        "    return test_loss, wrongx, wrongy, truey"
      ],
      "execution_count": 13,
      "outputs": []
    },
    {
      "cell_type": "markdown",
      "metadata": {
        "id": "9C04C8HY6dOb"
      },
      "source": [
        "# 5. Train, Test, and Analysis"
      ]
    },
    {
      "cell_type": "code",
      "metadata": {
        "colab": {
          "base_uri": "https://localhost:8080/",
          "height": 203,
          "referenced_widgets": [
            "30c9560edc414149bae34049cccd4a9b",
            "292fbff2b65245439337d75c5a29e6b2",
            "304fa75d9f764f45ac632c7c1ed6831f",
            "76965fc473bd4bd9b7f45f791f0effc4",
            "8a993f61d20d44318943f96a9f12aa36",
            "79f5dc27f01a49f2b6fc391335bca417",
            "5d41832d284f4ca490b789ab28185431",
            "a7e87ab0d9c14d5ca5acba6d198ee2df",
            "09deab5d73d545738cbae347b3ccaa51",
            "62e40afc3715419fbc33e72209b91a86",
            "2e589a7953c0473c9de2fa7e88967279",
            "296f914122fd44b197c548fc2d45bdf2",
            "191dac32f1094d05831f7dda0a743cbf",
            "cd31568653d946518d4d450a9df72444",
            "509fde4c84c14962974ba7d498fa73e5",
            "4d158e52d7d64cd8bb7da3fc84899a6e"
          ]
        },
        "id": "xBvF_NhC6ciD",
        "outputId": "8f3e69c6-1f9f-429b-f096-5f1d132fca71"
      },
      "source": [
        "# Create Model\n",
        "model = Transformer(output_dim=6, freeze=False)\n",
        "criterion = nn.CrossEntropyLoss()\n",
        "optimizer = torch.optim.Adam(model.parameters(), lr=2e-5)\n",
        "print(f'The model has {count_parameters(model):,} trainable parameters')"
      ],
      "execution_count": 14,
      "outputs": [
        {
          "output_type": "display_data",
          "data": {
            "application/vnd.jupyter.widget-view+json": {
              "model_id": "30c9560edc414149bae34049cccd4a9b",
              "version_minor": 0,
              "version_major": 2
            },
            "text/plain": [
              "HBox(children=(FloatProgress(value=0.0, description='Downloading', max=442.0, style=ProgressStyle(description_…"
            ]
          },
          "metadata": {
            "tags": []
          }
        },
        {
          "output_type": "stream",
          "text": [
            "\n"
          ],
          "name": "stdout"
        },
        {
          "output_type": "display_data",
          "data": {
            "application/vnd.jupyter.widget-view+json": {
              "model_id": "09deab5d73d545738cbae347b3ccaa51",
              "version_minor": 0,
              "version_major": 2
            },
            "text/plain": [
              "HBox(children=(FloatProgress(value=0.0, description='Downloading', max=267967963.0, style=ProgressStyle(descri…"
            ]
          },
          "metadata": {
            "tags": []
          }
        },
        {
          "output_type": "stream",
          "text": [
            "\n"
          ],
          "name": "stdout"
        },
        {
          "output_type": "stream",
          "text": [
            "Some weights of the model checkpoint at distilbert-base-uncased were not used when initializing DistilBertModel: ['vocab_transform.weight', 'vocab_layer_norm.bias', 'vocab_projector.bias', 'vocab_layer_norm.weight', 'vocab_projector.weight', 'vocab_transform.bias']\n",
            "- This IS expected if you are initializing DistilBertModel from the checkpoint of a model trained on another task or with another architecture (e.g. initializing a BertForSequenceClassification model from a BertForPreTraining model).\n",
            "- This IS NOT expected if you are initializing DistilBertModel from the checkpoint of a model that you expect to be exactly identical (initializing a BertForSequenceClassification model from a BertForSequenceClassification model).\n"
          ],
          "name": "stderr"
        },
        {
          "output_type": "stream",
          "text": [
            "The model has 66,561,286 trainable parameters\n"
          ],
          "name": "stdout"
        }
      ]
    },
    {
      "cell_type": "code",
      "metadata": {
        "colab": {
          "base_uri": "https://localhost:8080/"
        },
        "id": "PCAwvFXh_eYJ",
        "outputId": "070a91b4-fae3-4cc7-fb16-06d08b83c923"
      },
      "source": [
        "# -----------Run only to load model-----------\n",
        "# LOAD_PATH = 'checkpoint.pt'\n",
        "# model.load_state_dict(torch.load(LOAD_PATH))\n",
        "# --------------------------------------------"
      ],
      "execution_count": 20,
      "outputs": [
        {
          "output_type": "execute_result",
          "data": {
            "text/plain": [
              "<All keys matched successfully>"
            ]
          },
          "metadata": {
            "tags": []
          },
          "execution_count": 20
        }
      ]
    },
    {
      "cell_type": "code",
      "metadata": {
        "colab": {
          "base_uri": "https://localhost:8080/"
        },
        "id": "a5L3up0RlBic",
        "outputId": "55970e9e-ea8c-4019-e893-6106b1d914a0"
      },
      "source": [
        "# Train\n",
        "EPOCH=5\n",
        "train(model, device, train_iterator, valid_iterator, optimizer, criterion, EPOCH, save=True)\n",
        "a = test(model, device, test_iterator, nn.CrossEntropyLoss(reduction='sum'))"
      ],
      "execution_count": 15,
      "outputs": [
        {
          "output_type": "stream",
          "text": [
            "Train Epoch: 1 [128/4362 (3%)]\tLoss: 1.814526\n",
            "Train Epoch: 1 [256/4362 (6%)]\tLoss: 1.782116\n",
            "Train Epoch: 1 [384/4362 (9%)]\tLoss: 1.762753\n",
            "Train Epoch: 1 [512/4362 (12%)]\tLoss: 1.740350\n",
            "Train Epoch: 1 [640/4362 (15%)]\tLoss: 1.737616\n",
            "Train Epoch: 1 [768/4362 (18%)]\tLoss: 1.710596\n",
            "Train Epoch: 1 [896/4362 (21%)]\tLoss: 1.706845\n",
            "Train Epoch: 1 [1024/4362 (23%)]\tLoss: 1.695476\n",
            "Train Epoch: 1 [1152/4362 (26%)]\tLoss: 1.697481\n",
            "Train Epoch: 1 [1280/4362 (29%)]\tLoss: 1.651254\n",
            "Train Epoch: 1 [1408/4362 (32%)]\tLoss: 1.675302\n",
            "Train Epoch: 1 [1536/4362 (35%)]\tLoss: 1.693456\n",
            "Train Epoch: 1 [1664/4362 (38%)]\tLoss: 1.640403\n",
            "Train Epoch: 1 [1792/4362 (41%)]\tLoss: 1.625218\n",
            "Train Epoch: 1 [1920/4362 (44%)]\tLoss: 1.649726\n",
            "Train Epoch: 1 [2048/4362 (47%)]\tLoss: 1.644765\n",
            "Train Epoch: 1 [2176/4362 (50%)]\tLoss: 1.642794\n",
            "Train Epoch: 1 [2304/4362 (53%)]\tLoss: 1.575946\n",
            "Train Epoch: 1 [2432/4362 (56%)]\tLoss: 1.607520\n",
            "Train Epoch: 1 [2560/4362 (59%)]\tLoss: 1.618702\n",
            "Train Epoch: 1 [2688/4362 (62%)]\tLoss: 1.624473\n",
            "Train Epoch: 1 [2816/4362 (65%)]\tLoss: 1.579521\n",
            "Train Epoch: 1 [2826/4362 (65%)]\tLoss: 1.462077\n",
            "Train Epoch: 1 [2954/4362 (68%)]\tLoss: 1.552225\n",
            "Train Epoch: 1 [3082/4362 (71%)]\tLoss: 1.614484\n",
            "Train Epoch: 1 [3210/4362 (74%)]\tLoss: 1.530215\n",
            "Train Epoch: 1 [3338/4362 (77%)]\tLoss: 1.504881\n",
            "Train Epoch: 1 [3466/4362 (79%)]\tLoss: 1.492909\n",
            "Train Epoch: 1 [3594/4362 (82%)]\tLoss: 1.458459\n",
            "Train Epoch: 1 [3722/4362 (85%)]\tLoss: 1.453712\n",
            "Train Epoch: 1 [3850/4362 (88%)]\tLoss: 1.444001\n",
            "Train Epoch: 1 [3978/4362 (91%)]\tLoss: 1.407191\n",
            "Train Epoch: 1 [4106/4362 (94%)]\tLoss: 1.433872\n",
            "Train Epoch: 1 [4234/4362 (97%)]\tLoss: 1.403106\n",
            "Train Epoch: 1 [4362/4362 (100%)]\tLoss: 1.432761\n",
            "\n",
            "Validation set: Average loss: 1.3091, Accuracy: 717/1090 (65.78%)\n",
            "\n",
            "***Model Updated***\n",
            "Train Epoch: 2 [128/4362 (3%)]\tLoss: 1.291526\n",
            "Train Epoch: 2 [256/4362 (6%)]\tLoss: 1.230990\n",
            "Train Epoch: 2 [384/4362 (9%)]\tLoss: 1.181411\n",
            "Train Epoch: 2 [512/4362 (12%)]\tLoss: 1.254786\n",
            "Train Epoch: 2 [640/4362 (15%)]\tLoss: 1.124927\n",
            "Train Epoch: 2 [768/4362 (18%)]\tLoss: 1.192539\n",
            "Train Epoch: 2 [896/4362 (21%)]\tLoss: 1.144117\n",
            "Train Epoch: 2 [1024/4362 (23%)]\tLoss: 1.070004\n",
            "Train Epoch: 2 [1152/4362 (26%)]\tLoss: 1.009103\n",
            "Train Epoch: 2 [1280/4362 (29%)]\tLoss: 1.035552\n",
            "Train Epoch: 2 [1408/4362 (32%)]\tLoss: 1.010912\n",
            "Train Epoch: 2 [1536/4362 (35%)]\tLoss: 0.960629\n",
            "Train Epoch: 2 [1664/4362 (38%)]\tLoss: 1.044358\n",
            "Train Epoch: 2 [1792/4362 (41%)]\tLoss: 0.956586\n",
            "Train Epoch: 2 [1920/4362 (44%)]\tLoss: 1.004435\n",
            "Train Epoch: 2 [2048/4362 (47%)]\tLoss: 0.865995\n",
            "Train Epoch: 2 [2176/4362 (50%)]\tLoss: 0.873064\n",
            "Train Epoch: 2 [2304/4362 (53%)]\tLoss: 0.824376\n",
            "Train Epoch: 2 [2432/4362 (56%)]\tLoss: 0.812771\n",
            "Train Epoch: 2 [2560/4362 (59%)]\tLoss: 0.894769\n",
            "Train Epoch: 2 [2688/4362 (62%)]\tLoss: 0.740502\n",
            "Train Epoch: 2 [2816/4362 (65%)]\tLoss: 0.691984\n",
            "Train Epoch: 2 [2944/4362 (67%)]\tLoss: 0.729456\n",
            "Train Epoch: 2 [3072/4362 (70%)]\tLoss: 0.705914\n",
            "Train Epoch: 2 [3200/4362 (73%)]\tLoss: 0.681053\n",
            "Train Epoch: 2 [3328/4362 (76%)]\tLoss: 0.712258\n",
            "Train Epoch: 2 [3456/4362 (79%)]\tLoss: 0.615655\n",
            "Train Epoch: 2 [3584/4362 (82%)]\tLoss: 0.685709\n",
            "Train Epoch: 2 [3594/4362 (82%)]\tLoss: 0.859579\n",
            "Train Epoch: 2 [3722/4362 (85%)]\tLoss: 0.615206\n",
            "Train Epoch: 2 [3850/4362 (88%)]\tLoss: 0.646352\n",
            "Train Epoch: 2 [3978/4362 (91%)]\tLoss: 0.584518\n",
            "Train Epoch: 2 [4106/4362 (94%)]\tLoss: 0.574159\n",
            "Train Epoch: 2 [4234/4362 (97%)]\tLoss: 0.600318\n",
            "Train Epoch: 2 [4362/4362 (100%)]\tLoss: 0.503161\n",
            "\n",
            "Validation set: Average loss: 0.5653, Accuracy: 962/1090 (88.26%)\n",
            "\n",
            "***Model Updated***\n",
            "Train Epoch: 3 [128/4362 (3%)]\tLoss: 0.608332\n",
            "Train Epoch: 3 [256/4362 (6%)]\tLoss: 0.535263\n",
            "Train Epoch: 3 [384/4362 (9%)]\tLoss: 0.505350\n",
            "Train Epoch: 3 [512/4362 (12%)]\tLoss: 0.576042\n",
            "Train Epoch: 3 [640/4362 (15%)]\tLoss: 0.435698\n",
            "Train Epoch: 3 [768/4362 (18%)]\tLoss: 0.485553\n",
            "Train Epoch: 3 [896/4362 (21%)]\tLoss: 0.532155\n",
            "Train Epoch: 3 [1024/4362 (23%)]\tLoss: 0.440102\n",
            "Train Epoch: 3 [1152/4362 (26%)]\tLoss: 0.422539\n",
            "Train Epoch: 3 [1280/4362 (29%)]\tLoss: 0.514676\n",
            "Train Epoch: 3 [1408/4362 (32%)]\tLoss: 0.336689\n",
            "Train Epoch: 3 [1536/4362 (35%)]\tLoss: 0.416145\n",
            "Train Epoch: 3 [1664/4362 (38%)]\tLoss: 0.453580\n",
            "Train Epoch: 3 [1792/4362 (41%)]\tLoss: 0.403749\n",
            "Train Epoch: 3 [1920/4362 (44%)]\tLoss: 0.414564\n",
            "Train Epoch: 3 [2048/4362 (47%)]\tLoss: 0.298875\n",
            "Train Epoch: 3 [2176/4362 (50%)]\tLoss: 0.373993\n",
            "Train Epoch: 3 [2304/4362 (53%)]\tLoss: 0.343397\n",
            "Train Epoch: 3 [2432/4362 (56%)]\tLoss: 0.388202\n",
            "Train Epoch: 3 [2560/4362 (59%)]\tLoss: 0.315042\n",
            "Train Epoch: 3 [2688/4362 (62%)]\tLoss: 0.352288\n",
            "Train Epoch: 3 [2816/4362 (65%)]\tLoss: 0.392904\n",
            "Train Epoch: 3 [2944/4362 (67%)]\tLoss: 0.359579\n",
            "Train Epoch: 3 [3072/4362 (70%)]\tLoss: 0.271275\n",
            "Train Epoch: 3 [3200/4362 (73%)]\tLoss: 0.386441\n",
            "Train Epoch: 3 [3328/4362 (76%)]\tLoss: 0.246130\n",
            "Train Epoch: 3 [3456/4362 (79%)]\tLoss: 0.402929\n",
            "Train Epoch: 3 [3584/4362 (82%)]\tLoss: 0.338469\n",
            "Train Epoch: 3 [3712/4362 (85%)]\tLoss: 0.292191\n",
            "Train Epoch: 3 [3840/4362 (88%)]\tLoss: 0.255408\n",
            "Train Epoch: 3 [3968/4362 (91%)]\tLoss: 0.272591\n",
            "Train Epoch: 3 [4096/4362 (94%)]\tLoss: 0.337308\n",
            "Train Epoch: 3 [4224/4362 (97%)]\tLoss: 0.289648\n",
            "Train Epoch: 3 [4352/4362 (100%)]\tLoss: 0.210074\n",
            "Train Epoch: 3 [4362/4362 (100%)]\tLoss: 0.145196\n",
            "\n",
            "Validation set: Average loss: 0.3448, Accuracy: 1008/1090 (92.48%)\n",
            "\n",
            "***Model Updated***\n",
            "Train Epoch: 4 [128/4362 (3%)]\tLoss: 0.293537\n",
            "Train Epoch: 4 [256/4362 (6%)]\tLoss: 0.292595\n",
            "Train Epoch: 4 [384/4362 (9%)]\tLoss: 0.275666\n",
            "Train Epoch: 4 [512/4362 (12%)]\tLoss: 0.199459\n",
            "Train Epoch: 4 [640/4362 (15%)]\tLoss: 0.230052\n",
            "Train Epoch: 4 [768/4362 (18%)]\tLoss: 0.247528\n",
            "Train Epoch: 4 [896/4362 (21%)]\tLoss: 0.222333\n",
            "Train Epoch: 4 [1024/4362 (23%)]\tLoss: 0.160158\n",
            "Train Epoch: 4 [1152/4362 (26%)]\tLoss: 0.259107\n",
            "Train Epoch: 4 [1280/4362 (29%)]\tLoss: 0.256782\n",
            "Train Epoch: 4 [1408/4362 (32%)]\tLoss: 0.253590\n",
            "Train Epoch: 4 [1536/4362 (35%)]\tLoss: 0.179580\n",
            "Train Epoch: 4 [1664/4362 (38%)]\tLoss: 0.208240\n",
            "Train Epoch: 4 [1792/4362 (41%)]\tLoss: 0.232917\n",
            "Train Epoch: 4 [1920/4362 (44%)]\tLoss: 0.167795\n",
            "Train Epoch: 4 [2048/4362 (47%)]\tLoss: 0.281579\n",
            "Train Epoch: 4 [2176/4362 (50%)]\tLoss: 0.178334\n",
            "Train Epoch: 4 [2304/4362 (53%)]\tLoss: 0.188569\n",
            "Train Epoch: 4 [2432/4362 (56%)]\tLoss: 0.194524\n",
            "Train Epoch: 4 [2560/4362 (59%)]\tLoss: 0.203965\n",
            "Train Epoch: 4 [2570/4362 (59%)]\tLoss: 0.106455\n",
            "Train Epoch: 4 [2698/4362 (62%)]\tLoss: 0.212823\n",
            "Train Epoch: 4 [2826/4362 (65%)]\tLoss: 0.234595\n",
            "Train Epoch: 4 [2954/4362 (68%)]\tLoss: 0.191972\n",
            "Train Epoch: 4 [3082/4362 (71%)]\tLoss: 0.127412\n",
            "Train Epoch: 4 [3210/4362 (74%)]\tLoss: 0.256295\n",
            "Train Epoch: 4 [3338/4362 (77%)]\tLoss: 0.192111\n",
            "Train Epoch: 4 [3466/4362 (79%)]\tLoss: 0.137041\n",
            "Train Epoch: 4 [3594/4362 (82%)]\tLoss: 0.234864\n",
            "Train Epoch: 4 [3722/4362 (85%)]\tLoss: 0.225449\n",
            "Train Epoch: 4 [3850/4362 (88%)]\tLoss: 0.215091\n",
            "Train Epoch: 4 [3978/4362 (91%)]\tLoss: 0.236195\n",
            "Train Epoch: 4 [4106/4362 (94%)]\tLoss: 0.199011\n",
            "Train Epoch: 4 [4234/4362 (97%)]\tLoss: 0.150658\n",
            "Train Epoch: 4 [4362/4362 (100%)]\tLoss: 0.270617\n",
            "\n",
            "Validation set: Average loss: 0.2717, Accuracy: 1025/1090 (94.04%)\n",
            "\n",
            "***Model Updated***\n",
            "Train Epoch: 5 [128/4362 (3%)]\tLoss: 0.317410\n",
            "Train Epoch: 5 [256/4362 (6%)]\tLoss: 0.209746\n",
            "Train Epoch: 5 [384/4362 (9%)]\tLoss: 0.171289\n",
            "Train Epoch: 5 [512/4362 (12%)]\tLoss: 0.188204\n",
            "Train Epoch: 5 [640/4362 (15%)]\tLoss: 0.201335\n",
            "Train Epoch: 5 [768/4362 (18%)]\tLoss: 0.112837\n",
            "Train Epoch: 5 [896/4362 (21%)]\tLoss: 0.152528\n",
            "Train Epoch: 5 [906/4362 (21%)]\tLoss: 0.369970\n",
            "Train Epoch: 5 [1034/4362 (24%)]\tLoss: 0.204869\n",
            "Train Epoch: 5 [1162/4362 (27%)]\tLoss: 0.210443\n",
            "Train Epoch: 5 [1290/4362 (30%)]\tLoss: 0.159287\n",
            "Train Epoch: 5 [1418/4362 (33%)]\tLoss: 0.197234\n",
            "Train Epoch: 5 [1546/4362 (35%)]\tLoss: 0.121852\n",
            "Train Epoch: 5 [1674/4362 (38%)]\tLoss: 0.144736\n",
            "Train Epoch: 5 [1802/4362 (41%)]\tLoss: 0.124484\n",
            "Train Epoch: 5 [1930/4362 (44%)]\tLoss: 0.183133\n",
            "Train Epoch: 5 [2058/4362 (47%)]\tLoss: 0.136119\n",
            "Train Epoch: 5 [2186/4362 (50%)]\tLoss: 0.167800\n",
            "Train Epoch: 5 [2314/4362 (53%)]\tLoss: 0.188463\n",
            "Train Epoch: 5 [2442/4362 (56%)]\tLoss: 0.114382\n",
            "Train Epoch: 5 [2570/4362 (59%)]\tLoss: 0.193598\n",
            "Train Epoch: 5 [2698/4362 (62%)]\tLoss: 0.118715\n",
            "Train Epoch: 5 [2826/4362 (65%)]\tLoss: 0.139439\n",
            "Train Epoch: 5 [2954/4362 (68%)]\tLoss: 0.086464\n",
            "Train Epoch: 5 [3082/4362 (71%)]\tLoss: 0.077436\n",
            "Train Epoch: 5 [3210/4362 (74%)]\tLoss: 0.148772\n",
            "Train Epoch: 5 [3338/4362 (77%)]\tLoss: 0.132540\n",
            "Train Epoch: 5 [3466/4362 (79%)]\tLoss: 0.123453\n",
            "Train Epoch: 5 [3594/4362 (82%)]\tLoss: 0.114995\n",
            "Train Epoch: 5 [3722/4362 (85%)]\tLoss: 0.189646\n",
            "Train Epoch: 5 [3850/4362 (88%)]\tLoss: 0.140131\n",
            "Train Epoch: 5 [3978/4362 (91%)]\tLoss: 0.088288\n",
            "Train Epoch: 5 [4106/4362 (94%)]\tLoss: 0.142706\n",
            "Train Epoch: 5 [4234/4362 (97%)]\tLoss: 0.168121\n",
            "Train Epoch: 5 [4362/4362 (100%)]\tLoss: 0.085215\n",
            "\n",
            "Validation set: Average loss: 0.2474, Accuracy: 1021/1090 (93.67%)\n",
            "\n",
            "***Model Updated***\n",
            "\n",
            "Test set: Average loss: 0.1745, Accuracy: 479/500 (95.80%)\n",
            "\n"
          ],
          "name": "stdout"
        }
      ]
    },
    {
      "cell_type": "code",
      "metadata": {
        "id": "mu9-V50nlKGi"
      },
      "source": [
        "def predict_class(model, sentence, min_len = 4):\n",
        "    model.eval()\n",
        "    tokenized = tokenizer(sentence)['input_ids']\n",
        "    if len(tokenized) < min_len:\n",
        "        tokenized += [tokenizer.pad_token_id] * (128 - len(tokenized))\n",
        "    tensor = torch.LongTensor(tokenized).to(device)\n",
        "    tensor = tensor.unsqueeze(0)\n",
        "    preds = model(tensor)\n",
        "    max_preds = preds.argmax(dim = 1)\n",
        "    return max_preds.item()"
      ],
      "execution_count": 16,
      "outputs": []
    },
    {
      "cell_type": "code",
      "metadata": {
        "colab": {
          "base_uri": "https://localhost:8080/",
          "height": 37
        },
        "id": "hPeVhgXC75X3",
        "outputId": "577126e1-610f-438c-e6a4-64d6b9277e94"
      },
      "source": [
        "# Test custom questions here\n",
        "sentence = \"What does WYSIWYG stand for?\"\n",
        "label_field.vocab.itos[predict_class(model, sentence)]"
      ],
      "execution_count": 17,
      "outputs": [
        {
          "output_type": "execute_result",
          "data": {
            "application/vnd.google.colaboratory.intrinsic+json": {
              "type": "string"
            },
            "text/plain": [
              "'ABBR'"
            ]
          },
          "metadata": {
            "tags": []
          },
          "execution_count": 17
        }
      ]
    },
    {
      "cell_type": "code",
      "metadata": {
        "id": "gNG4go5U9BCA"
      },
      "source": [
        "'''\n",
        "Configurations:\n",
        "    Epoch = 5\n",
        "    lr = 2e-5\n",
        "    Accuracy on testset: 95.80 %\n",
        "'''"
      ],
      "execution_count": null,
      "outputs": []
    }
  ]
}